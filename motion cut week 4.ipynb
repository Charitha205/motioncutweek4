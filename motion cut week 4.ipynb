{
 "cells": [
  {
   "cell_type": "code",
   "execution_count": 1,
   "id": "f4a108a6",
   "metadata": {},
   "outputs": [
    {
     "name": "stdout",
     "output_type": "stream",
     "text": [
      "Welcome to Above the Land!\n",
      "You find yourself standing at the bottom of the mountain.\n",
      "Your aim is to climb the mountain and make choices that lead to different outcomes.\n",
      "\n",
      "You climb and come across two tunnels.\n",
      "\n",
      "Choose your next move:\n",
      "1. Enter the left tunnel.\n",
      "2. Enter the right tunnel.\n",
      "Enter the number of your choice: 1\n",
      "\n",
      "You venture into the left tunnel.\n",
      "As you go above, you find a hidden treasure!\n",
      "\n",
      "Choose your next move:\n",
      "1. Try to climb out of the pit.\n",
      "2. Look for another way out.\n",
      "Enter the number of your choice: 1\n",
      "\n",
      "You attempt to climb out of the pit.\n",
      "wooahhhh! You successfully climb out and continue your Treaking.\n",
      "None\n"
     ]
    }
   ],
   "source": [
    "import time\n",
    "\n",
    "def introduction():\n",
    "    print(\"Welcome to Above the Land!\")\n",
    "    time.sleep(1)\n",
    "    print(\"You find yourself standing at the bottom of the mountain.\")\n",
    "    time.sleep(1)\n",
    "    print(\"Your aim is to climb the mountain and make choices that lead to different outcomes.\")\n",
    "    time.sleep(1)\n",
    "\n",
    "def make_choice(options):\n",
    "    while True:\n",
    "        print(\"\\nChoose your next move:\")\n",
    "        for i, option in enumerate(options, 1):\n",
    "            print(f\"{i}. {option}\")\n",
    "\n",
    "        try:\n",
    "            choice = int(input(\"Enter the number of your choice: \"))\n",
    "            if 1 <= choice <= len(options):\n",
    "                return choice\n",
    "            else:\n",
    "                print(\"Invalid choice. Please enter a valid number.\")\n",
    "        except ValueError:\n",
    "            print(\"Invalid input. Please enter a number.\")\n",
    "\n",
    "def above_the_land():\n",
    "    introduction()\n",
    "\n",
    "    # Decision Point 1\n",
    "    print(\"\\nYou climb and come across two tunnels.\")\n",
    "    time.sleep(1)\n",
    "    decision_1 = make_choice([\"Enter the left tunnel.\", \"Enter the right tunnel.\"])\n",
    "\n",
    "    if decision_1 == 1:\n",
    "        print(\"\\nYou venture into the left tunnel.\")\n",
    "        time.sleep(1)\n",
    "        print(\"As you go above, you find a hidden treasure!\")\n",
    "    else:\n",
    "        print(\"\\nYou choose the right tunnel.\")\n",
    "        time.sleep(1)\n",
    "        print(\"Unfortunately, you encounter a trap and fall into a pit.\")\n",
    "\n",
    "    # Decision Point 2\n",
    "    decision_2 = make_choice([\"Try to climb out of the pit.\", \"Look for another way out.\"])\n",
    "\n",
    "    if decision_2 == 1:\n",
    "        print(\"\\nYou attempt to climb out of the pit.\")\n",
    "        time.sleep(1)\n",
    "        print(\"wooahhhh! You successfully climb out and continue your Treaking.\")\n",
    "    else:\n",
    "        print(\"\\nYou decide to look for another way out.\")\n",
    "        time.sleep(1)\n",
    "        \n",
    "print(above_the_land())"
   ]
  },
  {
   "cell_type": "code",
   "execution_count": null,
   "id": "f69af0c3",
   "metadata": {},
   "outputs": [],
   "source": []
  }
 ],
 "metadata": {
  "kernelspec": {
   "display_name": "Python 3 (ipykernel)",
   "language": "python",
   "name": "python3"
  },
  "language_info": {
   "codemirror_mode": {
    "name": "ipython",
    "version": 3
   },
   "file_extension": ".py",
   "mimetype": "text/x-python",
   "name": "python",
   "nbconvert_exporter": "python",
   "pygments_lexer": "ipython3",
   "version": "3.11.5"
  }
 },
 "nbformat": 4,
 "nbformat_minor": 5
}
